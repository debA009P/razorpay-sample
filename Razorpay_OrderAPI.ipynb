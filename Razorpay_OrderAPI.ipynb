{
 "cells": [
  {
   "cell_type": "code",
   "execution_count": 2,
   "metadata": {},
   "outputs": [
    {
     "name": "stdout",
     "output_type": "stream",
     "text": [
      "{'id': 'order_IlDtKCSQxVQkrc', 'entity': 'order', 'amount': 100, 'amount_paid': 0, 'amount_due': 100, 'currency': 'INR', 'receipt': 'receipt#1', 'offer_id': None, 'status': 'created', 'attempts': 0, 'notes': {'key1': 'value3', 'key2': 'value2'}, 'created_at': 1642512866}\n"
     ]
    }
   ],
   "source": [
    "import razorpay\n",
    "client = razorpay.Client(auth=(\"rzp_test_ZNAqyvg8nXQc7D\", \"SI5bEEhw22zHQt97BlWlBLnu\"))\n",
    "\n",
    "DATA = {\n",
    "    \"amount\": 100,\n",
    "    \"currency\": \"INR\",\n",
    "    \"receipt\": \"receipt#1\",\n",
    "    \"notes\": {\n",
    "        \"key1\": \"value3\",\n",
    "        \"key2\": \"value2\"\n",
    "    }\n",
    "}\n",
    "b=client.order.create(data=DATA)\n",
    "print(b)"
   ]
  }
 ],
 "metadata": {
  "interpreter": {
   "hash": "aee8b7b246df8f9039afb4144a1f6fd8d2ca17a180786b69acc140d282b71a49"
  },
  "kernelspec": {
   "display_name": "Python 3.10.1 64-bit",
   "language": "python",
   "name": "python3"
  },
  "language_info": {
   "codemirror_mode": {
    "name": "ipython",
    "version": 3
   },
   "file_extension": ".py",
   "mimetype": "text/x-python",
   "name": "python",
   "nbconvert_exporter": "python",
   "pygments_lexer": "ipython3",
   "version": "3.10.1"
  },
  "orig_nbformat": 4
 },
 "nbformat": 4,
 "nbformat_minor": 2
}
